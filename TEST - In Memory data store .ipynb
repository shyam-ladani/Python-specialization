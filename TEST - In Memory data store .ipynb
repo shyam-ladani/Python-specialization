{
 "cells": [
  {
   "cell_type": "code",
   "execution_count": null,
   "id": "2259ce95",
   "metadata": {},
   "outputs": [],
   "source": [
    "send solution on expertlearnfrom@gmail.com\n",
    "\n",
    "Do Any 2 QUESTION :"
   ]
  },
  {
   "cell_type": "code",
   "execution_count": null,
   "id": "22e7cb2d",
   "metadata": {},
   "outputs": [],
   "source": [
    "Design a data structure to efficiently store \n",
    "and retrieve information about a collection of books in a library,\n",
    "including their title, author, publication year, and genre, in memory"
   ]
  },
  {
   "cell_type": "code",
   "execution_count": null,
   "id": "bb38f534",
   "metadata": {},
   "outputs": [],
   "source": [
    "creating a data structure and its corresponding operations for a\n",
    "simple online shopping cart. The data structure should be \n",
    "capable of holding information about products, including their \n",
    "names, prices, and quantities added to the cart. "
   ]
  },
  {
   "cell_type": "code",
   "execution_count": null,
   "id": "a6dffd36",
   "metadata": {},
   "outputs": [],
   "source": [
    "you are working on a social media platform and \n",
    "need to create a data structure to manage user posts. \n",
    "Each post has information such as the user who created it, \n",
    "the post content, timestamp, and the number of likes and comments. \n",
    "Design an efficient in-memory data structure to store user posts,"
   ]
  }
 ],
 "metadata": {
  "kernelspec": {
   "display_name": "Python 3 (ipykernel)",
   "language": "python",
   "name": "python3"
  },
  "language_info": {
   "codemirror_mode": {
    "name": "ipython",
    "version": 3
   },
   "file_extension": ".py",
   "mimetype": "text/x-python",
   "name": "python",
   "nbconvert_exporter": "python",
   "pygments_lexer": "ipython3",
   "version": "3.10.0"
  }
 },
 "nbformat": 4,
 "nbformat_minor": 5
}
