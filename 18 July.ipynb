{
 "cells": [
  {
   "cell_type": "code",
   "execution_count": null,
   "id": "236e4824",
   "metadata": {
    "hideCode": false,
    "hidePrompt": false
   },
   "outputs": [],
   "source": [
    "Enter your name : Vivek\n",
    "Enter your Age. : 20\n",
    "Enter the expected age : 200\n",
    "    \n",
    "\n",
    "Hi Vivek,\n",
    "You will turn 200 years old in <year>\n",
    "    \n"
   ]
  },
  {
   "cell_type": "markdown",
   "id": "34b87fef",
   "metadata": {
    "hideCode": false,
    "hidePrompt": false
   },
   "source": [
    "## Formatted string "
   ]
  },
  {
   "cell_type": "code",
   "execution_count": 1,
   "id": "686f84b9",
   "metadata": {
    "hideCode": false,
    "hidePrompt": false
   },
   "outputs": [
    {
     "name": "stdout",
     "output_type": "stream",
     "text": [
      "Enter your name : Vivek\n",
      "Enter the age : 20\n",
      "Enter the Expected age : 100\n",
      "Hi Vivek\n",
      "You will turn 100 years old in 2103\n"
     ]
    }
   ],
   "source": [
    "name = input('Enter your name : ')\n",
    "age = int(input('Enter the age : '))\n",
    "exp_age = int(input('Enter the Expected age : '))\n",
    "current_year = 2023\n",
    "exp_year = current_year + (exp_age - age)\n",
    "print(f'Hi {name}')\n",
    "print(f'You will turn {exp_age} years old in {exp_year}')"
   ]
  },
  {
   "cell_type": "markdown",
   "id": "4576a9f0",
   "metadata": {
    "hideCode": false,
    "hidePrompt": false
   },
   "source": [
    "# Mixed structures"
   ]
  },
  {
   "cell_type": "markdown",
   "id": "f5b718e9",
   "metadata": {
    "hideCode": false,
    "hidePrompt": false
   },
   "source": [
    "- students ids\n",
    "    - name\n",
    "    - city\n",
    "    - courses\n",
    "        - batch no\n",
    "        - fees paid\n",
    "        - time\n",
    "        "
   ]
  },
  {
   "cell_type": "code",
   "execution_count": 13,
   "id": "855e9862",
   "metadata": {
    "hideCode": false,
    "hidePrompt": false
   },
   "outputs": [],
   "source": [
    "student_info = {701 : {'name' : 'Vivek',\n",
    "                       'city':['Pune','Mumbai'],\n",
    "                       'courses' : {'python': {'batch' : 1,\n",
    "                                              'fees_paid':False,\n",
    "                                              'time' : '8am'\n",
    "                                              },\n",
    "                                    'AWS' : {}\n",
    "                                   }\n",
    "                      },\n",
    "                801:  {}\n",
    "               }"
   ]
  },
  {
   "cell_type": "code",
   "execution_count": 3,
   "id": "08c3871e",
   "metadata": {
    "hideCode": false,
    "hidePrompt": false
   },
   "outputs": [
    {
     "name": "stdout",
     "output_type": "stream",
     "text": [
      "{701: {'name': 'Vivek', 'city': 'Pune', 'courses': {'python': {'batch': 1, 'fees_paid': True, 'time': '8am'}}}, 801: {}}\n"
     ]
    }
   ],
   "source": [
    "print(student_info)"
   ]
  },
  {
   "cell_type": "code",
   "execution_count": 14,
   "id": "0c38db73",
   "metadata": {
    "hideCode": false,
    "hidePrompt": false
   },
   "outputs": [
    {
     "name": "stdout",
     "output_type": "stream",
     "text": [
      "False\n"
     ]
    }
   ],
   "source": [
    "print(student_info[701]['courses']['python']['fees_paid'])"
   ]
  },
  {
   "cell_type": "raw",
   "id": "34ab81a0",
   "metadata": {},
   "source": [
    "train no (2 trains)\n",
    "    - source\n",
    "    - destination\n",
    "    - stoppages\n",
    "    - coach type(ac/sleeper/general)\n",
    "        - coach_no\n",
    "            - berth type\n",
    "            - berth no\n",
    "            - berth available / booked\n",
    "            \n",
    "-------------------------------------------------            \n",
    "enter the train no : 123\n",
    "enter the coach type :  ac\n",
    "enter the coach no : B1\n",
    "enter the berth type : L\n",
    "    \n",
    "    print All the available berths numbers"
   ]
  },
  {
   "cell_type": "code",
   "execution_count": null,
   "id": "c4e0f8f6",
   "metadata": {},
   "outputs": [],
   "source": [
    "- branch id(2 ids)\n",
    "    - owner \n",
    "        - name\n",
    "        - contact no\n",
    "    - manager\n",
    "        - name\n",
    "        - contact no\n",
    "    - type ('cake only' / 'all')\n",
    "    - inventory\n",
    "        - 'cake'\n",
    "            - code (4 code)\n",
    "                - sprice\n",
    "                - dprice\n",
    "                - count\n",
    "                - exp date\n",
    "        - 'Pastery'\n",
    "            -\n",
    "                \n",
    "-----------------------------------------------------------                \n",
    "print total count of cake available in branch id '101'"
   ]
  }
 ],
 "metadata": {
  "hide_code_all_hidden": false,
  "kernelspec": {
   "display_name": "Python 3 (ipykernel)",
   "language": "python",
   "name": "python3"
  },
  "language_info": {
   "codemirror_mode": {
    "name": "ipython",
    "version": 3
   },
   "file_extension": ".py",
   "mimetype": "text/x-python",
   "name": "python",
   "nbconvert_exporter": "python",
   "pygments_lexer": "ipython3",
   "version": "3.10.0"
  }
 },
 "nbformat": 4,
 "nbformat_minor": 5
}
