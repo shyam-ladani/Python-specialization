{
 "cells": [
  {
   "cell_type": "markdown",
   "id": "68c900fa",
   "metadata": {},
   "source": [
    "# PYTHON CLASS"
   ]
  },
  {
   "cell_type": "markdown",
   "id": "d8eadd08",
   "metadata": {},
   "source": [
    "## Variable"
   ]
  },
  {
   "cell_type": "markdown",
   "id": "be84974f",
   "metadata": {},
   "source": [
    "- point no 1\n",
    "    - sub point\n",
    "    - sub point2\n",
    "- point no 2"
   ]
  },
  {
   "cell_type": "markdown",
   "id": "4d4acb2d",
   "metadata": {},
   "source": [
    "- what is coding\n",
    "- what is RAM /ROM\n",
    "- What is variable ?"
   ]
  },
  {
   "cell_type": "code",
   "execution_count": 2,
   "id": "3a2e88f6",
   "metadata": {},
   "outputs": [
    {
     "name": "stdout",
     "output_type": "stream",
     "text": [
      "Arush\n"
     ]
    }
   ],
   "source": [
    "name = 'Arush'\n",
    "print(name)"
   ]
  },
  {
   "cell_type": "code",
   "execution_count": 3,
   "id": "744f9a97",
   "metadata": {},
   "outputs": [
    {
     "name": "stdout",
     "output_type": "stream",
     "text": [
      "<class 'str'>\n"
     ]
    }
   ],
   "source": [
    "print(type(name))"
   ]
  },
  {
   "cell_type": "code",
   "execution_count": 4,
   "id": "10fec184",
   "metadata": {},
   "outputs": [
    {
     "name": "stdout",
     "output_type": "stream",
     "text": [
      "<class 'int'>\n"
     ]
    }
   ],
   "source": [
    "roll_no = 5\n",
    "print(type(roll_no))"
   ]
  },
  {
   "cell_type": "markdown",
   "id": "4ba78b2c",
   "metadata": {},
   "source": [
    "- can not have spaces\n",
    "- name can start with alphabet,underscore only \n",
    "- variable name can have only alphabets,numbers,underscore\n",
    "- variable name is case sensitive\n",
    "- variable name in same scope overwirire"
   ]
  },
  {
   "cell_type": "code",
   "execution_count": 9,
   "id": "8a012438",
   "metadata": {},
   "outputs": [],
   "source": [
    "_ab = 6"
   ]
  },
  {
   "cell_type": "code",
   "execution_count": 10,
   "id": "0092ada9",
   "metadata": {},
   "outputs": [
    {
     "name": "stdout",
     "output_type": "stream",
     "text": [
      "5 6 7 8\n"
     ]
    }
   ],
   "source": [
    "age = 5 \n",
    "Age = 6\n",
    "aGe = 7\n",
    "AGe = 8 \n",
    "\n",
    "print(age,Age,aGe,AGe)"
   ]
  },
  {
   "cell_type": "code",
   "execution_count": 11,
   "id": "bd7d817d",
   "metadata": {},
   "outputs": [
    {
     "name": "stdout",
     "output_type": "stream",
     "text": [
      "7\n"
     ]
    }
   ],
   "source": [
    "age = 5\n",
    "age = 7\n",
    "print(age)"
   ]
  },
  {
   "cell_type": "code",
   "execution_count": 13,
   "id": "710c6022",
   "metadata": {},
   "outputs": [],
   "source": [
    "abc5 = 7"
   ]
  },
  {
   "cell_type": "markdown",
   "id": "03df1327",
   "metadata": {},
   "source": [
    "- Numbers\n",
    "    - int\n",
    "    - float\n",
    "    - complex\n",
    "- str\n",
    "- Collection\n",
    "    - list\n",
    "    - tuple\n",
    "    - set\n",
    "    - dict\n",
    "- bool\n",
    "- None"
   ]
  },
  {
   "cell_type": "markdown",
   "id": "122142e8",
   "metadata": {},
   "source": [
    "## Numbers"
   ]
  },
  {
   "cell_type": "code",
   "execution_count": 16,
   "id": "8b2a35a8",
   "metadata": {},
   "outputs": [
    {
     "name": "stdout",
     "output_type": "stream",
     "text": [
      "5\n",
      "4\n",
      "6\n"
     ]
    }
   ],
   "source": [
    "no1,no2,no3 = 4 , 5, 6\n",
    "print(no2)\n",
    "print(no1)\n",
    "print(no3)"
   ]
  },
  {
   "cell_type": "code",
   "execution_count": 17,
   "id": "c2147318",
   "metadata": {},
   "outputs": [
    {
     "name": "stdout",
     "output_type": "stream",
     "text": [
      "Hi\n"
     ]
    }
   ],
   "source": [
    "print('Hi')"
   ]
  },
  {
   "cell_type": "code",
   "execution_count": 18,
   "id": "30fa3adb",
   "metadata": {},
   "outputs": [
    {
     "ename": "NameError",
     "evalue": "name 'HI' is not defined",
     "output_type": "error",
     "traceback": [
      "\u001b[0;31m---------------------------------------------------------------------------\u001b[0m",
      "\u001b[0;31mNameError\u001b[0m                                 Traceback (most recent call last)",
      "Input \u001b[0;32mIn [18]\u001b[0m, in \u001b[0;36m<cell line: 1>\u001b[0;34m()\u001b[0m\n\u001b[0;32m----> 1\u001b[0m \u001b[38;5;28mprint\u001b[39m(\u001b[43mHI\u001b[49m)\n",
      "\u001b[0;31mNameError\u001b[0m: name 'HI' is not defined"
     ]
    }
   ],
   "source": [
    "print(HI)"
   ]
  },
  {
   "cell_type": "code",
   "execution_count": 19,
   "id": "f76de511",
   "metadata": {},
   "outputs": [
    {
     "name": "stdout",
     "output_type": "stream",
     "text": [
      "Hi\n"
     ]
    }
   ],
   "source": [
    "print('Hi')"
   ]
  },
  {
   "cell_type": "code",
   "execution_count": 20,
   "id": "c188c489",
   "metadata": {},
   "outputs": [],
   "source": [
    "r = print"
   ]
  },
  {
   "cell_type": "code",
   "execution_count": 24,
   "id": "610c01d9",
   "metadata": {},
   "outputs": [
    {
     "name": "stdout",
     "output_type": "stream",
     "text": [
      "4310339872\n",
      "4310339872\n"
     ]
    }
   ],
   "source": [
    "r\n",
    "\n",
    "print(id(r))\n",
    "print(id(print))"
   ]
  },
  {
   "cell_type": "code",
   "execution_count": 22,
   "id": "c0eaacff",
   "metadata": {},
   "outputs": [
    {
     "name": "stdout",
     "output_type": "stream",
     "text": [
      "Hi\n"
     ]
    }
   ],
   "source": [
    "r('Hi')"
   ]
  },
  {
   "cell_type": "code",
   "execution_count": 1,
   "id": "b23df3a2",
   "metadata": {},
   "outputs": [],
   "source": [
    "print = 5"
   ]
  },
  {
   "cell_type": "code",
   "execution_count": 2,
   "id": "6d456428",
   "metadata": {},
   "outputs": [
    {
     "ename": "TypeError",
     "evalue": "'int' object is not callable",
     "output_type": "error",
     "traceback": [
      "\u001b[0;31m---------------------------------------------------------------------------\u001b[0m",
      "\u001b[0;31mTypeError\u001b[0m                                 Traceback (most recent call last)",
      "Input \u001b[0;32mIn [2]\u001b[0m, in \u001b[0;36m<cell line: 1>\u001b[0;34m()\u001b[0m\n\u001b[0;32m----> 1\u001b[0m \u001b[38;5;28;43mprint\u001b[39;49m\u001b[43m(\u001b[49m\u001b[38;5;124;43m'\u001b[39;49m\u001b[38;5;124;43mHi\u001b[39;49m\u001b[38;5;124;43m'\u001b[39;49m\u001b[43m)\u001b[49m\n",
      "\u001b[0;31mTypeError\u001b[0m: 'int' object is not callable"
     ]
    }
   ],
   "source": [
    "print('Hi')"
   ]
  },
  {
   "cell_type": "code",
   "execution_count": 1,
   "id": "2465d2ae",
   "metadata": {},
   "outputs": [
    {
     "ename": "NameError",
     "evalue": "name 'r' is not defined",
     "output_type": "error",
     "traceback": [
      "\u001b[0;31m---------------------------------------------------------------------------\u001b[0m",
      "\u001b[0;31mNameError\u001b[0m                                 Traceback (most recent call last)",
      "Input \u001b[0;32mIn [1]\u001b[0m, in \u001b[0;36m<cell line: 1>\u001b[0;34m()\u001b[0m\n\u001b[0;32m----> 1\u001b[0m \u001b[43mr\u001b[49m(\u001b[38;5;124m'\u001b[39m\u001b[38;5;124mHi\u001b[39m\u001b[38;5;124m'\u001b[39m)\n",
      "\u001b[0;31mNameError\u001b[0m: name 'r' is not defined"
     ]
    }
   ],
   "source": [
    "r('Hi')"
   ]
  },
  {
   "cell_type": "code",
   "execution_count": null,
   "id": "c7c7d231",
   "metadata": {},
   "outputs": [],
   "source": []
  }
 ],
 "metadata": {
  "kernelspec": {
   "display_name": "Python 3 (ipykernel)",
   "language": "python",
   "name": "python3"
  },
  "language_info": {
   "codemirror_mode": {
    "name": "ipython",
    "version": 3
   },
   "file_extension": ".py",
   "mimetype": "text/x-python",
   "name": "python",
   "nbconvert_exporter": "python",
   "pygments_lexer": "ipython3",
   "version": "3.10.0"
  }
 },
 "nbformat": 4,
 "nbformat_minor": 5
}
