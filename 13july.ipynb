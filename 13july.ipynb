{
 "cells": [
  {
   "cell_type": "markdown",
   "id": "fbfa58b9",
   "metadata": {},
   "source": [
    "## Numbers"
   ]
  },
  {
   "cell_type": "code",
   "execution_count": 2,
   "id": "ee939cc2",
   "metadata": {},
   "outputs": [
    {
     "name": "stdout",
     "output_type": "stream",
     "text": [
      "<class 'float'>\n"
     ]
    }
   ],
   "source": [
    "roll_no = 5.0\n",
    "print(type(roll_no))"
   ]
  },
  {
   "cell_type": "code",
   "execution_count": 3,
   "id": "20cc6ed0",
   "metadata": {},
   "outputs": [
    {
     "name": "stdout",
     "output_type": "stream",
     "text": [
      "9.0\n"
     ]
    }
   ],
   "source": [
    "print(roll_no + 4)"
   ]
  },
  {
   "cell_type": "code",
   "execution_count": 4,
   "id": "52f914d6",
   "metadata": {},
   "outputs": [],
   "source": [
    "total = roll_no + 6"
   ]
  },
  {
   "cell_type": "code",
   "execution_count": 5,
   "id": "c4f5b50b",
   "metadata": {},
   "outputs": [
    {
     "name": "stdout",
     "output_type": "stream",
     "text": [
      "11.0\n"
     ]
    }
   ],
   "source": [
    "print(total)"
   ]
  },
  {
   "cell_type": "markdown",
   "id": "bce2c380",
   "metadata": {},
   "source": [
    "## Division"
   ]
  },
  {
   "cell_type": "code",
   "execution_count": 12,
   "id": "0a48a131",
   "metadata": {},
   "outputs": [
    {
     "ename": "TypeError",
     "evalue": "'str' object is not callable",
     "output_type": "error",
     "traceback": [
      "\u001b[0;31m---------------------------------------------------------------------------\u001b[0m",
      "\u001b[0;31mTypeError\u001b[0m                                 Traceback (most recent call last)",
      "Input \u001b[0;32mIn [12]\u001b[0m, in \u001b[0;36m<cell line: 1>\u001b[0;34m()\u001b[0m\n\u001b[0;32m----> 1\u001b[0m \u001b[38;5;28;43mprint\u001b[39;49m\u001b[43m(\u001b[49m\u001b[38;5;241;43m17\u001b[39;49m\u001b[38;5;241;43m/\u001b[39;49m\u001b[38;5;241;43m4\u001b[39;49m\u001b[43m)\u001b[49m  \u001b[38;5;66;03m# float\u001b[39;00m\n\u001b[1;32m      2\u001b[0m \u001b[38;5;28mprint\u001b[39m(\u001b[38;5;241m17\u001b[39m\u001b[38;5;241m/\u001b[39m\u001b[38;5;241m/\u001b[39m\u001b[38;5;241m4\u001b[39m)\n",
      "\u001b[0;31mTypeError\u001b[0m: 'str' object is not callable"
     ]
    }
   ],
   "source": [
    "print(17/4)  # float\n",
    "print(17//4) # int"
   ]
  },
  {
   "cell_type": "markdown",
   "id": "8c191ab1",
   "metadata": {},
   "source": [
    "## Exponent (power)"
   ]
  },
  {
   "cell_type": "code",
   "execution_count": 2,
   "id": "eb92ae29",
   "metadata": {},
   "outputs": [
    {
     "name": "stdout",
     "output_type": "stream",
     "text": [
      "125.0\n"
     ]
    }
   ],
   "source": [
    "print(5.0 ** 3)"
   ]
  },
  {
   "cell_type": "markdown",
   "id": "dbe5583d",
   "metadata": {},
   "source": [
    "## Modulas"
   ]
  },
  {
   "cell_type": "code",
   "execution_count": 3,
   "id": "b9a68229",
   "metadata": {},
   "outputs": [
    {
     "name": "stdout",
     "output_type": "stream",
     "text": [
      "1\n"
     ]
    }
   ],
   "source": [
    "print(17%4)"
   ]
  },
  {
   "cell_type": "markdown",
   "id": "751695f5",
   "metadata": {},
   "source": [
    "## String"
   ]
  },
  {
   "cell_type": "code",
   "execution_count": 5,
   "id": "88f562d7",
   "metadata": {},
   "outputs": [
    {
     "name": "stdout",
     "output_type": "stream",
     "text": [
      "<class 'str'>\n"
     ]
    }
   ],
   "source": [
    "mesg = 'Welcome to Ethans for python by Arush'\n",
    "print(type(mesg))"
   ]
  },
  {
   "cell_type": "code",
   "execution_count": 7,
   "id": "eb246532",
   "metadata": {},
   "outputs": [
    {
     "name": "stdout",
     "output_type": "stream",
     "text": [
      "<class 'str'>\n"
     ]
    }
   ],
   "source": [
    "mesg = \"Welcome to Ethan's for python by Arush\"\n",
    "print(type(mesg))"
   ]
  },
  {
   "cell_type": "code",
   "execution_count": 8,
   "id": "4ed0ba92",
   "metadata": {},
   "outputs": [
    {
     "name": "stdout",
     "output_type": "stream",
     "text": [
      "<class 'str'>\n"
     ]
    }
   ],
   "source": [
    "mesg = '''Welcome to Ethan's for python by Arush'''\n",
    "print(type(mesg))"
   ]
  },
  {
   "cell_type": "code",
   "execution_count": 10,
   "id": "73ee52af",
   "metadata": {},
   "outputs": [
    {
     "ename": "SyntaxError",
     "evalue": "unterminated string literal (detected at line 1) (510484150.py, line 1)",
     "output_type": "error",
     "traceback": [
      "\u001b[0;36m  Input \u001b[0;32mIn [10]\u001b[0;36m\u001b[0m\n\u001b[0;31m    mesg = 'Welcome to Ethans\u001b[0m\n\u001b[0m           ^\u001b[0m\n\u001b[0;31mSyntaxError\u001b[0m\u001b[0;31m:\u001b[0m unterminated string literal (detected at line 1)\n"
     ]
    }
   ],
   "source": [
    "mesg = 'Welcome to Ethans \n",
    "for python \n",
    "by Arush'\n",
    "print(type(mesg))"
   ]
  },
  {
   "cell_type": "code",
   "execution_count": 11,
   "id": "70db5259",
   "metadata": {},
   "outputs": [
    {
     "name": "stdout",
     "output_type": "stream",
     "text": [
      "<class 'str'>\n"
     ]
    }
   ],
   "source": [
    "mesg = '''Welcome to Ethans \n",
    "for python \n",
    "by Arush'''\n",
    "print(type(mesg))"
   ]
  },
  {
   "cell_type": "markdown",
   "id": "981a8824",
   "metadata": {},
   "source": [
    "## String concat"
   ]
  },
  {
   "cell_type": "code",
   "execution_count": 15,
   "id": "77d513c4",
   "metadata": {},
   "outputs": [
    {
     "name": "stdout",
     "output_type": "stream",
     "text": [
      "Ethans wakad\n",
      "Ethans wakad\n"
     ]
    }
   ],
   "source": [
    "var1 = 'Ethans'\n",
    "var2 = 'wakad'\n",
    "\n",
    "print(var1 + ' ' + var2)\n",
    "var3 = var1 + ' ' + var2\n",
    "print(var3)"
   ]
  },
  {
   "cell_type": "code",
   "execution_count": 16,
   "id": "c19d8df7",
   "metadata": {},
   "outputs": [
    {
     "name": "stdout",
     "output_type": "stream",
     "text": [
      "EthansKharadi\n"
     ]
    }
   ],
   "source": [
    "print(var1 + 'Kharadi')"
   ]
  },
  {
   "cell_type": "code",
   "execution_count": 17,
   "id": "bbcdd4c2",
   "metadata": {},
   "outputs": [
    {
     "ename": "TypeError",
     "evalue": "can only concatenate str (not \"int\") to str",
     "output_type": "error",
     "traceback": [
      "\u001b[0;31m---------------------------------------------------------------------------\u001b[0m",
      "\u001b[0;31mTypeError\u001b[0m                                 Traceback (most recent call last)",
      "Input \u001b[0;32mIn [17]\u001b[0m, in \u001b[0;36m<cell line: 1>\u001b[0;34m()\u001b[0m\n\u001b[0;32m----> 1\u001b[0m \u001b[38;5;28mprint\u001b[39m(\u001b[38;5;124;43m'\u001b[39;49m\u001b[38;5;124;43mEthans\u001b[39;49m\u001b[38;5;124;43m'\u001b[39;49m\u001b[43m \u001b[49m\u001b[38;5;241;43m+\u001b[39;49m\u001b[43m \u001b[49m\u001b[38;5;241;43m5\u001b[39;49m)\n",
      "\u001b[0;31mTypeError\u001b[0m: can only concatenate str (not \"int\") to str"
     ]
    }
   ],
   "source": [
    "print('Ethans' + 5)"
   ]
  },
  {
   "cell_type": "markdown",
   "id": "5714cb97",
   "metadata": {},
   "source": [
    "## String Repeatation"
   ]
  },
  {
   "cell_type": "code",
   "execution_count": 18,
   "id": "dc23bc92",
   "metadata": {},
   "outputs": [
    {
     "name": "stdout",
     "output_type": "stream",
     "text": [
      "Arush Arush Arush Arush Arush \n"
     ]
    }
   ],
   "source": [
    "print('Arush ' * 5)"
   ]
  },
  {
   "cell_type": "code",
   "execution_count": 19,
   "id": "4b1f219b",
   "metadata": {},
   "outputs": [
    {
     "name": "stdout",
     "output_type": "stream",
     "text": [
      "Arush Arush Arush Arush Arush \n"
     ]
    }
   ],
   "source": [
    "test = 'Arush ' * 5\n",
    "print(test)"
   ]
  },
  {
   "cell_type": "code",
   "execution_count": 20,
   "id": "c7357ee1",
   "metadata": {},
   "outputs": [
    {
     "name": "stdout",
     "output_type": "stream",
     "text": [
      "30\n"
     ]
    }
   ],
   "source": [
    "print(len(test))"
   ]
  },
  {
   "cell_type": "code",
   "execution_count": 21,
   "id": "20168568",
   "metadata": {},
   "outputs": [
    {
     "name": "stdout",
     "output_type": "stream",
     "text": [
      "Enter your name : Arush\n"
     ]
    }
   ],
   "source": [
    "name = input('Enter your name : ')"
   ]
  },
  {
   "cell_type": "code",
   "execution_count": 22,
   "id": "11cd91e3",
   "metadata": {},
   "outputs": [
    {
     "name": "stdout",
     "output_type": "stream",
     "text": [
      "Arush\n"
     ]
    }
   ],
   "source": [
    "print(name)"
   ]
  },
  {
   "cell_type": "code",
   "execution_count": null,
   "id": "7ecf0cb9",
   "metadata": {},
   "outputs": [],
   "source": [
    "name = input('Enter your name : ')"
   ]
  },
  {
   "cell_type": "code",
   "execution_count": null,
   "id": "5a5b96f8",
   "metadata": {},
   "outputs": [],
   "source": [
    "print(name)"
   ]
  },
  {
   "cell_type": "markdown",
   "id": "6e2c403b",
   "metadata": {},
   "source": [
    "## List"
   ]
  },
  {
   "cell_type": "markdown",
   "id": "78664447",
   "metadata": {},
   "source": [
    "- collection\n",
    "- mutable\n",
    "- indexed\n",
    "- ordered"
   ]
  },
  {
   "cell_type": "code",
   "execution_count": 1,
   "id": "658b3bca",
   "metadata": {},
   "outputs": [],
   "source": [
    "student_names = ['Swapnil','Shyam','Sonam','Vivek',5,6,7]"
   ]
  },
  {
   "cell_type": "code",
   "execution_count": 2,
   "id": "faa4f9f1",
   "metadata": {},
   "outputs": [
    {
     "name": "stdout",
     "output_type": "stream",
     "text": [
      "<class 'list'>\n"
     ]
    }
   ],
   "source": [
    "print(type(student_names))"
   ]
  },
  {
   "cell_type": "code",
   "execution_count": 5,
   "id": "4d1f78ba",
   "metadata": {},
   "outputs": [
    {
     "name": "stdout",
     "output_type": "stream",
     "text": [
      "Vivek\n",
      "Sonam\n"
     ]
    }
   ],
   "source": [
    "print(student_names[3])\n",
    "print(student_names[-5])"
   ]
  },
  {
   "cell_type": "code",
   "execution_count": 4,
   "id": "0a8f8cad",
   "metadata": {},
   "outputs": [
    {
     "name": "stdout",
     "output_type": "stream",
     "text": [
      "['Swapnil', 'Shyam', 'Sonam', 'Vivek', 5, 6, 7]\n"
     ]
    }
   ],
   "source": [
    "print(student_names)"
   ]
  },
  {
   "cell_type": "code",
   "execution_count": 6,
   "id": "c450ff1f",
   "metadata": {},
   "outputs": [],
   "source": [
    "test = [1,2,3] + student_names"
   ]
  },
  {
   "cell_type": "code",
   "execution_count": 7,
   "id": "d040a6b1",
   "metadata": {},
   "outputs": [
    {
     "name": "stdout",
     "output_type": "stream",
     "text": [
      "[1, 2, 3, 'Swapnil', 'Shyam', 'Sonam', 'Vivek', 5, 6, 7]\n"
     ]
    }
   ],
   "source": [
    "print(test)"
   ]
  },
  {
   "cell_type": "code",
   "execution_count": 8,
   "id": "6ec463c3",
   "metadata": {},
   "outputs": [
    {
     "name": "stdout",
     "output_type": "stream",
     "text": [
      "[5, 5, 5, 5, 5, 5]\n"
     ]
    }
   ],
   "source": [
    "test1 = [5] * 6\n",
    "print(test1)"
   ]
  },
  {
   "cell_type": "code",
   "execution_count": null,
   "id": "c791f93c",
   "metadata": {},
   "outputs": [],
   "source": []
  }
 ],
 "metadata": {
  "kernelspec": {
   "display_name": "Python 3 (ipykernel)",
   "language": "python",
   "name": "python3"
  },
  "language_info": {
   "codemirror_mode": {
    "name": "ipython",
    "version": 3
   },
   "file_extension": ".py",
   "mimetype": "text/x-python",
   "name": "python",
   "nbconvert_exporter": "python",
   "pygments_lexer": "ipython3",
   "version": "3.10.0"
  }
 },
 "nbformat": 4,
 "nbformat_minor": 5
}
