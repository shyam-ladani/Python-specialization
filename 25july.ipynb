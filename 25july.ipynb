{
 "cells": [
  {
   "cell_type": "markdown",
   "id": "797817f7",
   "metadata": {},
   "source": [
    "- value\n",
    "- Membership\n",
    "- Identity"
   ]
  },
  {
   "cell_type": "markdown",
   "id": "b682335b",
   "metadata": {},
   "source": [
    "## Membership opertor"
   ]
  },
  {
   "cell_type": "markdown",
   "id": "c2b56072",
   "metadata": {},
   "source": [
    "- in / not in "
   ]
  },
  {
   "cell_type": "code",
   "execution_count": 2,
   "id": "219a1971",
   "metadata": {},
   "outputs": [
    {
     "name": "stdout",
     "output_type": "stream",
     "text": [
      "False\n",
      "True\n"
     ]
    }
   ],
   "source": [
    "name = 'Akash'\n",
    "\n",
    "print('H' in name)\n",
    "print('h' in name)"
   ]
  },
  {
   "cell_type": "code",
   "execution_count": 3,
   "id": "a296e3f8",
   "metadata": {},
   "outputs": [
    {
     "name": "stdout",
     "output_type": "stream",
     "text": [
      "False\n"
     ]
    }
   ],
   "source": [
    "even = [2,4,6,8,10]\n",
    "print(10 not in even)"
   ]
  },
  {
   "cell_type": "code",
   "execution_count": 4,
   "id": "42958095",
   "metadata": {},
   "outputs": [],
   "source": [
    "stud_info = {'name' : 'Mayur','course':'Python'}"
   ]
  },
  {
   "cell_type": "code",
   "execution_count": 6,
   "id": "ebdb55b0",
   "metadata": {},
   "outputs": [
    {
     "name": "stdout",
     "output_type": "stream",
     "text": [
      "False\n",
      "True\n"
     ]
    }
   ],
   "source": [
    "print('Python' in stud_info)\n",
    "print('name' in stud_info)"
   ]
  },
  {
   "cell_type": "code",
   "execution_count": 7,
   "id": "f342de27",
   "metadata": {},
   "outputs": [
    {
     "name": "stdout",
     "output_type": "stream",
     "text": [
      "True\n"
     ]
    }
   ],
   "source": [
    "print('Python' in stud_info.values())"
   ]
  },
  {
   "cell_type": "markdown",
   "id": "6a09fbe8",
   "metadata": {},
   "source": [
    "## identity operator"
   ]
  },
  {
   "cell_type": "markdown",
   "id": "49fc9b70",
   "metadata": {},
   "source": [
    "- is / is not"
   ]
  },
  {
   "cell_type": "code",
   "execution_count": 8,
   "id": "727557c6",
   "metadata": {},
   "outputs": [
    {
     "name": "stdout",
     "output_type": "stream",
     "text": [
      "4301422992\n",
      "4301422992\n"
     ]
    }
   ],
   "source": [
    "var = 6\n",
    "\n",
    "var2 = 6\n",
    "\n",
    "print(id(var))\n",
    "print(id(var2))"
   ]
  },
  {
   "cell_type": "code",
   "execution_count": 9,
   "id": "0600936a",
   "metadata": {},
   "outputs": [
    {
     "name": "stdout",
     "output_type": "stream",
     "text": [
      "True\n"
     ]
    }
   ],
   "source": [
    "print(var is var2)"
   ]
  },
  {
   "cell_type": "code",
   "execution_count": 10,
   "id": "0495127a",
   "metadata": {},
   "outputs": [
    {
     "name": "stdout",
     "output_type": "stream",
     "text": [
      "False\n"
     ]
    }
   ],
   "source": [
    "test = [1,2,3]\n",
    "test1 = [1,2,3]\n",
    "\n",
    "print(test is test1)"
   ]
  },
  {
   "cell_type": "code",
   "execution_count": 11,
   "id": "8c94f7be",
   "metadata": {},
   "outputs": [
    {
     "name": "stdout",
     "output_type": "stream",
     "text": [
      "4359147520\n",
      "4359110272\n"
     ]
    }
   ],
   "source": [
    "print(id(test))\n",
    "print(id(test1))"
   ]
  },
  {
   "cell_type": "code",
   "execution_count": 15,
   "id": "76e754b2",
   "metadata": {},
   "outputs": [
    {
     "name": "stdout",
     "output_type": "stream",
     "text": [
      "False\n"
     ]
    }
   ],
   "source": [
    "print(type(test) is int)"
   ]
  },
  {
   "cell_type": "code",
   "execution_count": 14,
   "id": "6fdbd515",
   "metadata": {},
   "outputs": [
    {
     "name": "stdout",
     "output_type": "stream",
     "text": [
      "True\n"
     ]
    }
   ],
   "source": [
    "print(type(test) is list)"
   ]
  },
  {
   "cell_type": "markdown",
   "id": "f245af7d",
   "metadata": {},
   "source": [
    "## Conditional Statements"
   ]
  },
  {
   "cell_type": "code",
   "execution_count": 20,
   "id": "06c7aa0f",
   "metadata": {},
   "outputs": [],
   "source": [
    "name1 = 'Arush'\n",
    "name2 = 'Arush'"
   ]
  },
  {
   "cell_type": "code",
   "execution_count": null,
   "id": "4940861a",
   "metadata": {},
   "outputs": [],
   "source": [
    "## if   <--- Boolean value"
   ]
  },
  {
   "cell_type": "code",
   "execution_count": 21,
   "id": "5559a5fd",
   "metadata": {
    "scrolled": true
   },
   "outputs": [
    {
     "name": "stdout",
     "output_type": "stream",
     "text": [
      "Both names are same\n",
      "Name1 is Arush\n",
      "Name2 is Arush\n",
      "I am outside the if\n"
     ]
    }
   ],
   "source": [
    "if name1 == name2:\n",
    "    print('Both names are same')\n",
    "    print(f'Name1 is {name1}')\n",
    "    print(f'Name2 is {name2}')\n",
    "    \n",
    "print('I am outside the if')"
   ]
  },
  {
   "cell_type": "code",
   "execution_count": 23,
   "id": "751867f4",
   "metadata": {},
   "outputs": [
    {
     "name": "stdout",
     "output_type": "stream",
     "text": [
      "Enter the Marks : 88\n",
      "First Division\n"
     ]
    }
   ],
   "source": [
    "marks = int(input('Enter the Marks : '))\n",
    "if marks >= 60:\n",
    "    print('First Division')"
   ]
  },
  {
   "cell_type": "code",
   "execution_count": 32,
   "id": "63cc956a",
   "metadata": {},
   "outputs": [
    {
     "name": "stdout",
     "output_type": "stream",
     "text": [
      "Enter the Marks : 1000\n",
      "First Division\n"
     ]
    }
   ],
   "source": [
    "marks = int(input('Enter the Marks : '))\n",
    "if marks >= 60:\n",
    "    print('First Division')\n",
    "elif marks >= 35:\n",
    "    print('Second Division')\n",
    "elif marks >= 20:\n",
    "    print('Third Division')\n",
    "else:\n",
    "    print('Please Re Appear')"
   ]
  },
  {
   "cell_type": "code",
   "execution_count": 30,
   "id": "2291418c",
   "metadata": {},
   "outputs": [
    {
     "name": "stdout",
     "output_type": "stream",
     "text": [
      "Enter the Marks : 55\n",
      "Second Division\n"
     ]
    }
   ],
   "source": [
    "marks = int(input('Enter the Marks : '))\n",
    "if marks >= 60:\n",
    "    print('First Division')\n",
    "elif marks > 35:\n",
    "    print('Second Division')"
   ]
  },
  {
   "cell_type": "code",
   "execution_count": 31,
   "id": "202d8957",
   "metadata": {},
   "outputs": [
    {
     "name": "stdout",
     "output_type": "stream",
     "text": [
      "Enter the Marks : 55\n",
      "Second Division\n"
     ]
    }
   ],
   "source": [
    "marks = int(input('Enter the Marks : '))\n",
    "if marks >= 60:\n",
    "    print('First Division')\n",
    "else:\n",
    "    print('Second Division')"
   ]
  },
  {
   "cell_type": "markdown",
   "id": "93fb2314",
   "metadata": {},
   "source": [
    "## Logical operators"
   ]
  },
  {
   "cell_type": "code",
   "execution_count": null,
   "id": "c518fa3c",
   "metadata": {},
   "outputs": [],
   "source": [
    "            cond1              Cond2              Final\n",
    "\n",
    "AND         True               True                True\n",
    "            True               False               False\n",
    "            False                                 False       \n",
    "\n",
    "OR       return True if any True\n",
    "AND.     return True if all True"
   ]
  },
  {
   "cell_type": "code",
   "execution_count": 37,
   "id": "02e160bd",
   "metadata": {},
   "outputs": [
    {
     "name": "stdout",
     "output_type": "stream",
     "text": [
      "Enter the Marks : 60\n",
      "First Division\n"
     ]
    }
   ],
   "source": [
    "marks = int(input('Enter the Marks : '))\n",
    "if marks <=100 and marks >= 60:\n",
    "    print('First Division')\n",
    "elif marks <60 and marks >=40:\n",
    "    print('First Division')"
   ]
  },
  {
   "cell_type": "markdown",
   "id": "95277fa2",
   "metadata": {},
   "source": [
    "- Python Treats all empty type as False in condition\n",
    "    - 0 / 0.0\n",
    "    - [] / {} / ()\n",
    "    - ''"
   ]
  },
  {
   "cell_type": "code",
   "execution_count": 39,
   "id": "bf65d093",
   "metadata": {},
   "outputs": [
    {
     "name": "stdout",
     "output_type": "stream",
     "text": [
      "Length --> 3\n"
     ]
    }
   ],
   "source": [
    "list1 = [1,2,3]\n",
    "\n",
    "if list1:\n",
    "    print(f'Length --> {len(list1)}')\n",
    "else:\n",
    "    print('Empty List')"
   ]
  },
  {
   "cell_type": "code",
   "execution_count": 40,
   "id": "1cf58f47",
   "metadata": {},
   "outputs": [],
   "source": [
    "stud_info = {'1' : {'name' : 'Akash',\n",
    "                    'fees_paid' : True\n",
    "                   },\n",
    "             '2' : {'name' : 'Arush',\n",
    "                    'fees_paid' : False\n",
    "                   }\n",
    "            }"
   ]
  },
  {
   "cell_type": "code",
   "execution_count": 45,
   "id": "d9f96cb6",
   "metadata": {},
   "outputs": [
    {
     "name": "stdout",
     "output_type": "stream",
     "text": [
      "Enter the Roll number : 2\n",
      "Enter the nameArush\n",
      "Fee Status : False\n"
     ]
    }
   ],
   "source": [
    "rno = input('Enter the Roll number : ')\n",
    "if rno not in stud_info:\n",
    "    print('ERROR : Invalid Roll Number')\n",
    "else:\n",
    "    naam = input('Enter the name')\n",
    "    if stud_info[rno]['name'] == naam:\n",
    "        print(f'Fee Status : {stud_info[rno][\"fees_paid\"]}')\n",
    "    else:\n",
    "        print('ERROR : Name and Roll no do not match')\n",
    "    "
   ]
  },
  {
   "cell_type": "code",
   "execution_count": 47,
   "id": "7d60aada",
   "metadata": {},
   "outputs": [
    {
     "name": "stdout",
     "output_type": "stream",
     "text": [
      "Name is Akash\n"
     ]
    }
   ],
   "source": [
    "name = 'Akash'\n",
    "\n",
    "print(f'Name is {name}')"
   ]
  },
  {
   "cell_type": "code",
   "execution_count": null,
   "id": "1615af4f",
   "metadata": {},
   "outputs": [],
   "source": []
  }
 ],
 "metadata": {
  "kernelspec": {
   "display_name": "Python 3 (ipykernel)",
   "language": "python",
   "name": "python3"
  },
  "language_info": {
   "codemirror_mode": {
    "name": "ipython",
    "version": 3
   },
   "file_extension": ".py",
   "mimetype": "text/x-python",
   "name": "python",
   "nbconvert_exporter": "python",
   "pygments_lexer": "ipython3",
   "version": "3.10.0"
  }
 },
 "nbformat": 4,
 "nbformat_minor": 5
}
