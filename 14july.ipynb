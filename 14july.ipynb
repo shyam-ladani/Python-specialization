{
 "cells": [
  {
   "cell_type": "markdown",
   "id": "f22f1e82",
   "metadata": {},
   "source": [
    "# List slicing"
   ]
  },
  {
   "cell_type": "code",
   "execution_count": 1,
   "id": "1589e33b",
   "metadata": {},
   "outputs": [],
   "source": [
    "names = ['Pune','Thane','Mumbai','Lonavala','Baner']"
   ]
  },
  {
   "cell_type": "code",
   "execution_count": 2,
   "id": "f8ab3066",
   "metadata": {},
   "outputs": [
    {
     "name": "stdout",
     "output_type": "stream",
     "text": [
      "Mumbai\n"
     ]
    }
   ],
   "source": [
    "print(names[-3])"
   ]
  },
  {
   "cell_type": "raw",
   "id": "375f535f",
   "metadata": {},
   "source": [
    "var_name[start:stop:step]"
   ]
  },
  {
   "cell_type": "code",
   "execution_count": 3,
   "id": "b7d45401",
   "metadata": {},
   "outputs": [
    {
     "name": "stdout",
     "output_type": "stream",
     "text": [
      "['Thane', 'Mumbai', 'Lonavala', 'Baner']\n"
     ]
    }
   ],
   "source": [
    "names = ['Pune','Thane','Mumbai','Lonavala','Baner']\n",
    "            0.    1.       2.        3.        4\n",
    "print(names[1:5])"
   ]
  },
  {
   "cell_type": "code",
   "execution_count": 6,
   "id": "e34f5e87",
   "metadata": {},
   "outputs": [
    {
     "name": "stdout",
     "output_type": "stream",
     "text": [
      "['Mumbai', 'Lonavala', 'Baner']\n"
     ]
    }
   ],
   "source": [
    "print(names[2:4])"
   ]
  },
  {
   "cell_type": "code",
   "execution_count": 7,
   "id": "8679f79e",
   "metadata": {},
   "outputs": [
    {
     "name": "stdout",
     "output_type": "stream",
     "text": [
      "['Pune', 'Thane', 'Mumbai']\n"
     ]
    }
   ],
   "source": [
    "print(names[-5:-2])"
   ]
  },
  {
   "cell_type": "code",
   "execution_count": 8,
   "id": "6f3f5119",
   "metadata": {},
   "outputs": [
    {
     "name": "stdout",
     "output_type": "stream",
     "text": [
      "['Pune', 'Thane', 'Mumbai', 'Lonavala', 'Baner']\n"
     ]
    }
   ],
   "source": [
    "print(names[:5])"
   ]
  },
  {
   "cell_type": "code",
   "execution_count": 9,
   "id": "def75b28",
   "metadata": {},
   "outputs": [
    {
     "name": "stdout",
     "output_type": "stream",
     "text": [
      "['Mumbai', 'Lonavala', 'Baner']\n"
     ]
    }
   ],
   "source": [
    "print(names[2:])"
   ]
  },
  {
   "cell_type": "raw",
   "id": "4a191dbc",
   "metadata": {},
   "source": [
    "step default value is +1\n",
    "\n",
    "+ --> L ---> R\n",
    "- --> R ---> L"
   ]
  },
  {
   "cell_type": "code",
   "execution_count": null,
   "id": "6651b2b3",
   "metadata": {},
   "outputs": [],
   "source": [
    "names = ['Pune','Thane','Mumbai','Lonavala','Baner']\n",
    "            0.    1.       2.        3.        4\n"
   ]
  },
  {
   "cell_type": "code",
   "execution_count": 10,
   "id": "792e8c55",
   "metadata": {},
   "outputs": [
    {
     "name": "stdout",
     "output_type": "stream",
     "text": [
      "['Thane', 'Lonavala']\n"
     ]
    }
   ],
   "source": [
    "print(names[1:5:2])"
   ]
  },
  {
   "cell_type": "code",
   "execution_count": 11,
   "id": "f95a3218",
   "metadata": {},
   "outputs": [
    {
     "name": "stdout",
     "output_type": "stream",
     "text": [
      "[]\n"
     ]
    }
   ],
   "source": [
    "print(names[1:5:-1])"
   ]
  },
  {
   "cell_type": "code",
   "execution_count": 12,
   "id": "41e8dafc",
   "metadata": {},
   "outputs": [
    {
     "name": "stdout",
     "output_type": "stream",
     "text": [
      "['Baner', 'Lonavala', 'Mumbai', 'Thane', 'Pune']\n"
     ]
    }
   ],
   "source": [
    "print(names[::-1])"
   ]
  },
  {
   "cell_type": "code",
   "execution_count": 15,
   "id": "72d1c472",
   "metadata": {},
   "outputs": [],
   "source": [
    "test = 'ETHANS. Arush'"
   ]
  },
  {
   "cell_type": "code",
   "execution_count": 16,
   "id": "aab8277d",
   "metadata": {},
   "outputs": [
    {
     "name": "stdout",
     "output_type": "stream",
     "text": [
      "hsurA .SNAHTE\n"
     ]
    }
   ],
   "source": [
    "print(test[::-1])"
   ]
  },
  {
   "cell_type": "code",
   "execution_count": 18,
   "id": "32412b56",
   "metadata": {},
   "outputs": [
    {
     "name": "stdout",
     "output_type": "stream",
     "text": [
      "['Baner', 'Lonavala']\n"
     ]
    }
   ],
   "source": [
    "print(names[-1:-3:-1])"
   ]
  },
  {
   "cell_type": "code",
   "execution_count": 19,
   "id": "cf7d7698",
   "metadata": {},
   "outputs": [],
   "source": [
    "names = ['Pune','Thane','Mumbai','Lonavala','Baner']"
   ]
  },
  {
   "cell_type": "code",
   "execution_count": 21,
   "id": "8c417071",
   "metadata": {},
   "outputs": [
    {
     "name": "stdout",
     "output_type": "stream",
     "text": [
      "['Pune', 'Mumbai', 'Baner']\n",
      "['Thane', 'Lonavala']\n"
     ]
    }
   ],
   "source": [
    "even = names[::2]\n",
    "odd =  names[1::2]\n",
    "print(even)\n",
    "print(odd)"
   ]
  },
  {
   "cell_type": "code",
   "execution_count": 22,
   "id": "f27a5300",
   "metadata": {},
   "outputs": [
    {
     "name": "stdout",
     "output_type": "stream",
     "text": [
      "5\n"
     ]
    }
   ],
   "source": [
    "print(len(names))"
   ]
  },
  {
   "cell_type": "markdown",
   "id": "1324c776",
   "metadata": {},
   "source": [
    "## Tuple"
   ]
  },
  {
   "cell_type": "markdown",
   "id": "b69fad50",
   "metadata": {},
   "source": [
    "- Collection\n",
    "- immutable\n",
    "- ordered\n",
    "- indexed"
   ]
  },
  {
   "cell_type": "code",
   "execution_count": 23,
   "id": "2d830adf",
   "metadata": {},
   "outputs": [
    {
     "name": "stdout",
     "output_type": "stream",
     "text": [
      "<class 'tuple'>\n"
     ]
    }
   ],
   "source": [
    "names = ('Arush','Ethans','Pune')\n",
    "print(type(names))"
   ]
  },
  {
   "cell_type": "code",
   "execution_count": 24,
   "id": "4481d2d9",
   "metadata": {},
   "outputs": [
    {
     "name": "stdout",
     "output_type": "stream",
     "text": [
      "('Arush', 'Ethans', 'Pune')\n"
     ]
    }
   ],
   "source": [
    "print(names)"
   ]
  },
  {
   "cell_type": "code",
   "execution_count": 25,
   "id": "363381a4",
   "metadata": {},
   "outputs": [
    {
     "name": "stdout",
     "output_type": "stream",
     "text": [
      "Ethans\n"
     ]
    }
   ],
   "source": [
    "print(names[-2])"
   ]
  },
  {
   "cell_type": "markdown",
   "id": "eeff9850",
   "metadata": {},
   "source": [
    "## sets"
   ]
  },
  {
   "cell_type": "markdown",
   "id": "e1518a2c",
   "metadata": {},
   "source": [
    "- collection\n",
    "- unindexed\n",
    "- unordered\n",
    "- mutable\n",
    "- unique elements"
   ]
  },
  {
   "cell_type": "code",
   "execution_count": 28,
   "id": "d226d193",
   "metadata": {},
   "outputs": [],
   "source": [
    "names = {'vivek','Ranjit','swapnil','akansha',5,7,'akansha'}"
   ]
  },
  {
   "cell_type": "code",
   "execution_count": 29,
   "id": "f5de052a",
   "metadata": {},
   "outputs": [
    {
     "name": "stdout",
     "output_type": "stream",
     "text": [
      "{'Ranjit', 'akansha', 5, 7, 'vivek', 'swapnil'}\n"
     ]
    }
   ],
   "source": [
    "print(names)"
   ]
  },
  {
   "cell_type": "code",
   "execution_count": 30,
   "id": "d57d379d",
   "metadata": {},
   "outputs": [
    {
     "ename": "TypeError",
     "evalue": "'set' object is not subscriptable",
     "output_type": "error",
     "traceback": [
      "\u001b[0;31m---------------------------------------------------------------------------\u001b[0m",
      "\u001b[0;31mTypeError\u001b[0m                                 Traceback (most recent call last)",
      "Input \u001b[0;32mIn [30]\u001b[0m, in \u001b[0;36m<cell line: 1>\u001b[0;34m()\u001b[0m\n\u001b[0;32m----> 1\u001b[0m \u001b[38;5;28mprint\u001b[39m(\u001b[43mnames\u001b[49m\u001b[43m[\u001b[49m\u001b[38;5;241;43m0\u001b[39;49m\u001b[43m]\u001b[49m)\n",
      "\u001b[0;31mTypeError\u001b[0m: 'set' object is not subscriptable"
     ]
    }
   ],
   "source": [
    "print(names[0])"
   ]
  },
  {
   "cell_type": "code",
   "execution_count": 32,
   "id": "4e698359",
   "metadata": {},
   "outputs": [],
   "source": [
    "names = {'vivek','Ranjit','swapnil','akansha',(5,7,'akansha')}"
   ]
  },
  {
   "cell_type": "code",
   "execution_count": null,
   "id": "65abca61",
   "metadata": {},
   "outputs": [],
   "source": []
  }
 ],
 "metadata": {
  "kernelspec": {
   "display_name": "Python 3 (ipykernel)",
   "language": "python",
   "name": "python3"
  },
  "language_info": {
   "codemirror_mode": {
    "name": "ipython",
    "version": 3
   },
   "file_extension": ".py",
   "mimetype": "text/x-python",
   "name": "python",
   "nbconvert_exporter": "python",
   "pygments_lexer": "ipython3",
   "version": "3.10.0"
  }
 },
 "nbformat": 4,
 "nbformat_minor": 5
}
