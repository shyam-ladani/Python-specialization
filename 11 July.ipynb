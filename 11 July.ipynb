{
 "cells": [
  {
   "cell_type": "raw",
   "id": "df7bb941",
   "metadata": {},
   "source": [
    "- open python.org\n",
    "- mac (python3 -V)\n",
    "\n",
    "\n",
    "\n",
    "JUPYTER\n",
    "\n",
    "cmd/Terminal :\n",
    "    \n",
    "windows - pip  install jupyter\n",
    "mac.    - pip3 install jupyter\n",
    "\n",
    "\n",
    "cmd  -->  jupyter notebook"
   ]
  },
  {
   "cell_type": "code",
   "execution_count": null,
   "id": "b4b576e7",
   "metadata": {},
   "outputs": [],
   "source": [
    "ipynb --> interactive python Notebook \n",
    "py ---> python\n",
    "\n",
    "cmd.  ---> python path1/path2/code.py"
   ]
  },
  {
   "cell_type": "code",
   "execution_count": 9,
   "id": "f3c54b78",
   "metadata": {},
   "outputs": [
    {
     "name": "stdout",
     "output_type": "stream",
     "text": [
      "Welcome to Ethans for python by Arush\n"
     ]
    }
   ],
   "source": [
    "print('Welcome to Ethans for python by Arush')"
   ]
  },
  {
   "cell_type": "code",
   "execution_count": 8,
   "id": "13d562ab",
   "metadata": {},
   "outputs": [
    {
     "name": "stdout",
     "output_type": "stream",
     "text": [
      "Welcome to Ethans for python by Arush\n",
      "Welcome to Ethans for python by Arush\n",
      "Welcome to Ethans for python by Arush\n",
      "Welcome to Ethans for python by Arush\n",
      "Welcome to Ethans for python by Arush\n"
     ]
    }
   ],
   "source": [
    "print('Welcome to Ethans for python by Arush')\n",
    "print('Welcome to Ethans for python by Arush')\n",
    "print('Welcome to Ethans for python by Arush')\n",
    "print('Welcome to Ethans for python by Arush')\n",
    "print('Welcome to Ethans for python by Arush')"
   ]
  },
  {
   "cell_type": "code",
   "execution_count": null,
   "id": "fb7ad7dd",
   "metadata": {},
   "outputs": [],
   "source": [
    "compiler vs interpreter\n",
    "\n",
    "RAM / ROM \n",
    "\n"
   ]
  }
 ],
 "metadata": {
  "kernelspec": {
   "display_name": "Python 3 (ipykernel)",
   "language": "python",
   "name": "python3"
  },
  "language_info": {
   "codemirror_mode": {
    "name": "ipython",
    "version": 3
   },
   "file_extension": ".py",
   "mimetype": "text/x-python",
   "name": "python",
   "nbconvert_exporter": "python",
   "pygments_lexer": "ipython3",
   "version": "3.10.0"
  }
 },
 "nbformat": 4,
 "nbformat_minor": 5
}
