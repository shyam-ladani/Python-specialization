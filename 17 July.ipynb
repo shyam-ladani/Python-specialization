{
 "cells": [
  {
   "cell_type": "code",
   "execution_count": 1,
   "id": "72b69596",
   "metadata": {},
   "outputs": [],
   "source": [
    "students = {'Sagar','Anurag','Suyash','Mayur'}\n",
    "\n",
    "mentors = {'Bhavin','Vivek','Shyam','Mayur','Sagar'}"
   ]
  },
  {
   "cell_type": "code",
   "execution_count": 2,
   "id": "4d1d3834",
   "metadata": {},
   "outputs": [
    {
     "name": "stdout",
     "output_type": "stream",
     "text": [
      "{'Anurag', 'Suyash'}\n"
     ]
    }
   ],
   "source": [
    "print(students - mentors)"
   ]
  },
  {
   "cell_type": "code",
   "execution_count": 3,
   "id": "90424c83",
   "metadata": {},
   "outputs": [
    {
     "name": "stdout",
     "output_type": "stream",
     "text": [
      "{'Shyam', 'Vivek', 'Bhavin'}\n"
     ]
    }
   ],
   "source": [
    "print(mentors - students)"
   ]
  },
  {
   "cell_type": "code",
   "execution_count": 4,
   "id": "354cd5d8",
   "metadata": {},
   "outputs": [
    {
     "name": "stdout",
     "output_type": "stream",
     "text": [
      "{'Mayur', 'Sagar'}\n"
     ]
    }
   ],
   "source": [
    "print(mentors & students)"
   ]
  },
  {
   "cell_type": "code",
   "execution_count": 5,
   "id": "de8707dd",
   "metadata": {},
   "outputs": [
    {
     "name": "stdout",
     "output_type": "stream",
     "text": [
      "{'Suyash', 'Shyam', 'Vivek', 'Bhavin', 'Mayur', 'Sagar', 'Anurag'}\n"
     ]
    }
   ],
   "source": [
    "print(mentors | students)"
   ]
  },
  {
   "cell_type": "markdown",
   "id": "a779959d",
   "metadata": {},
   "source": [
    "## Dictionary"
   ]
  },
  {
   "cell_type": "markdown",
   "id": "dd57eab3",
   "metadata": {},
   "source": [
    "- Collection\n",
    "- Mutable\n",
    "- ordered\n",
    "- Indexed (Key)\n",
    "- key-value pair\n",
    "- keys can be immutable \n",
    "- keys are unique"
   ]
  },
  {
   "cell_type": "code",
   "execution_count": 9,
   "id": "23fda301",
   "metadata": {},
   "outputs": [
    {
     "name": "stdout",
     "output_type": "stream",
     "text": [
      "Name is 1\n"
     ]
    }
   ],
   "source": [
    "stud_info = ['1','Arush','Python']\n",
    "print('Name is ' + stud_info[0])"
   ]
  },
  {
   "cell_type": "code",
   "execution_count": 11,
   "id": "4f9814e2",
   "metadata": {},
   "outputs": [
    {
     "name": "stdout",
     "output_type": "stream",
     "text": [
      "Name is Arush\n"
     ]
    }
   ],
   "source": [
    "stud_info = {'roll_no':'1',\n",
    "             'naam' : 'Arush',\n",
    "             'course' : 'Python'\n",
    "            }\n",
    "\n",
    "print('Name is ' + stud_info['naam'])"
   ]
  },
  {
   "cell_type": "code",
   "execution_count": 12,
   "id": "30923311",
   "metadata": {},
   "outputs": [],
   "source": [
    "stud_info['naam'] = 'Vivek'"
   ]
  },
  {
   "cell_type": "code",
   "execution_count": 14,
   "id": "1da309c3",
   "metadata": {},
   "outputs": [
    {
     "name": "stdout",
     "output_type": "stream",
     "text": [
      "{'roll_no': '1', 'naam': 'Vivek', 'course': 'Python'}\n"
     ]
    }
   ],
   "source": [
    "print(stud_info)"
   ]
  },
  {
   "cell_type": "markdown",
   "id": "c6b1b947",
   "metadata": {},
   "source": [
    "# Boolean VALUE"
   ]
  },
  {
   "cell_type": "code",
   "execution_count": 16,
   "id": "b020a2a5",
   "metadata": {},
   "outputs": [
    {
     "name": "stdout",
     "output_type": "stream",
     "text": [
      "<class 'str'>\n"
     ]
    }
   ],
   "source": [
    "var = 'true'\n",
    "print(type(var))"
   ]
  },
  {
   "cell_type": "code",
   "execution_count": 17,
   "id": "4dba8ad3",
   "metadata": {},
   "outputs": [
    {
     "name": "stdout",
     "output_type": "stream",
     "text": [
      "<class 'bool'>\n"
     ]
    }
   ],
   "source": [
    "var = True\n",
    "print(type(var))"
   ]
  },
  {
   "cell_type": "code",
   "execution_count": 18,
   "id": "83289bb5",
   "metadata": {},
   "outputs": [
    {
     "name": "stdout",
     "output_type": "stream",
     "text": [
      "<class 'bool'>\n"
     ]
    }
   ],
   "source": [
    "var1 = False\n",
    "print(type(var1))"
   ]
  },
  {
   "cell_type": "markdown",
   "id": "efdf3be5",
   "metadata": {},
   "source": [
    "## None Type"
   ]
  },
  {
   "cell_type": "code",
   "execution_count": 19,
   "id": "7d32297c",
   "metadata": {},
   "outputs": [
    {
     "name": "stdout",
     "output_type": "stream",
     "text": [
      "<class 'NoneType'>\n"
     ]
    }
   ],
   "source": [
    "var = None\n",
    "print(type(var))"
   ]
  },
  {
   "cell_type": "markdown",
   "id": "2a7d909f",
   "metadata": {},
   "source": [
    "## Comments in Python"
   ]
  },
  {
   "cell_type": "markdown",
   "id": "0e2b2cb6",
   "metadata": {},
   "source": [
    "- single line\n",
    "- Multi lines\n",
    "- Doc string"
   ]
  },
  {
   "cell_type": "code",
   "execution_count": 21,
   "id": "92fa70e2",
   "metadata": {},
   "outputs": [
    {
     "name": "stdout",
     "output_type": "stream",
     "text": [
      "1 - Welcome to todays class by Arush\n",
      "2 - Welcome to todays class by Arush\n",
      "4 - Welcome to todays class by Arush\n"
     ]
    }
   ],
   "source": [
    "print('1 - Welcome to todays class by Arush')\n",
    "print('2 - Welcome to todays class by Arush')\n",
    "#print('3 - Welcome to todays class by Arush')\n",
    "print('4 - Welcome to todays class by Arush')"
   ]
  },
  {
   "cell_type": "code",
   "execution_count": 23,
   "id": "1935e9a4",
   "metadata": {},
   "outputs": [
    {
     "name": "stdout",
     "output_type": "stream",
     "text": [
      "1 - Welcome to todays class by Arush\n",
      "2 - Welcome to todays class by Arush\n",
      "3 - Welcome to todays class by Arush\n",
      "4 - Welcome to todays class by Arush\n"
     ]
    }
   ],
   "source": [
    "print('1 - Welcome to todays class by Arush')\n",
    "print('2 - Welcome to todays class by Arush')\n",
    "'''\n",
    "kdfn;kdfnbf lbndaflbndflk lkanbldknblzdfkb\n",
    "dlkbvndflkbn\n",
    "lkdfnbl;dfkam\n",
    "ldfakbn;d\n",
    "fbm\n",
    "'''\n",
    "print('3 - Welcome to todays class by Arush')\n",
    "print('4 - Welcome to todays class by Arush')"
   ]
  },
  {
   "cell_type": "markdown",
   "id": "54a13699",
   "metadata": {},
   "source": [
    "## Type Casting "
   ]
  },
  {
   "cell_type": "markdown",
   "id": "28c57b93",
   "metadata": {},
   "source": [
    "- str\n",
    "- int\n",
    "- float"
   ]
  },
  {
   "cell_type": "code",
   "execution_count": 25,
   "id": "d4e60368",
   "metadata": {},
   "outputs": [],
   "source": [
    "age = 50"
   ]
  },
  {
   "cell_type": "code",
   "execution_count": 26,
   "id": "7b1e0bcd",
   "metadata": {},
   "outputs": [
    {
     "name": "stdout",
     "output_type": "stream",
     "text": [
      "<class 'int'>\n"
     ]
    }
   ],
   "source": [
    "print(type(age))"
   ]
  },
  {
   "cell_type": "code",
   "execution_count": 28,
   "id": "c89544be",
   "metadata": {},
   "outputs": [
    {
     "name": "stdout",
     "output_type": "stream",
     "text": [
      "Age is 50\n"
     ]
    }
   ],
   "source": [
    "print('Age is ' + str(age))"
   ]
  },
  {
   "cell_type": "code",
   "execution_count": 30,
   "id": "328537b1",
   "metadata": {},
   "outputs": [
    {
     "name": "stdout",
     "output_type": "stream",
     "text": [
      "12\n"
     ]
    }
   ],
   "source": [
    "age = '6'\n",
    "total = int(age) + 6\n",
    "print(total)"
   ]
  },
  {
   "cell_type": "markdown",
   "id": "60915635",
   "metadata": {},
   "source": [
    "- list\n",
    "- tuple\n",
    "- set\n",
    "- dict"
   ]
  },
  {
   "cell_type": "code",
   "execution_count": 31,
   "id": "9af4e5b4",
   "metadata": {},
   "outputs": [
    {
     "name": "stdout",
     "output_type": "stream",
     "text": [
      "<class 'list'>\n"
     ]
    }
   ],
   "source": [
    "list1 = [1,2,3,4,5,6,7]\n",
    "print(type(list1))"
   ]
  },
  {
   "cell_type": "code",
   "execution_count": 32,
   "id": "dc3db68e",
   "metadata": {},
   "outputs": [
    {
     "name": "stdout",
     "output_type": "stream",
     "text": [
      "{1, 2, 3, 4, 5, 6, 7}\n"
     ]
    }
   ],
   "source": [
    "test = set(list1)\n",
    "print(test)"
   ]
  },
  {
   "cell_type": "code",
   "execution_count": null,
   "id": "5969de3d",
   "metadata": {},
   "outputs": [],
   "source": [
    "Enter your name : Vivek\n",
    "Enter your Age. : 20\n",
    "Enter the expected age : 200\n",
    "    \n",
    "\n",
    "Hi Vivek,\n",
    "You will turn 200 years old in <year>\n",
    "    \n"
   ]
  }
 ],
 "metadata": {
  "kernelspec": {
   "display_name": "Python 3 (ipykernel)",
   "language": "python",
   "name": "python3"
  },
  "language_info": {
   "codemirror_mode": {
    "name": "ipython",
    "version": 3
   },
   "file_extension": ".py",
   "mimetype": "text/x-python",
   "name": "python",
   "nbconvert_exporter": "python",
   "pygments_lexer": "ipython3",
   "version": "3.10.0"
  }
 },
 "nbformat": 4,
 "nbformat_minor": 5
}
