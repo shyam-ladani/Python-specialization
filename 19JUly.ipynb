{
 "cells": [
  {
   "cell_type": "code",
   "execution_count": null,
   "id": "84a8d900",
   "metadata": {},
   "outputs": [],
   "source": [
    "train no (2 trains)\n",
    "    - source\n",
    "    - destination\n",
    "    - stoppages\n",
    "    - coach type(ac/sleeper/general)\n",
    "        - coach_no\n",
    "            - berth type\n",
    "            - berth no\n",
    "            - berth available / booked"
   ]
  },
  {
   "cell_type": "code",
   "execution_count": 4,
   "id": "4674b9ac",
   "metadata": {},
   "outputs": [],
   "source": [
    "train_info = {'123' : {'source'      : 'Pune',\n",
    "                       'Destination' : 'Mumbai',\n",
    "                       'stopages'    : ['Lonavala','Karjat'],\n",
    "                       'coach_types' : {'ac' : {'B1' : {'L' : {'Available':[11,12,13],\n",
    "                                                               'Booked' : [4,5,6]\n",
    "                                                              },\n",
    "                                                        'M' : {},\n",
    "                                                        'U' : {}\n",
    "                                                       },\n",
    "                                                'B2' : {}\n",
    "                                               },\n",
    "                                        'sl' : {},\n",
    "                                        'gn' : {}\n",
    "                                       }\n",
    "                       \n",
    "                      },\n",
    "              '234' : {}\n",
    "             }"
   ]
  },
  {
   "cell_type": "code",
   "execution_count": 2,
   "id": "d7c6ae45",
   "metadata": {},
   "outputs": [
    {
     "name": "stdout",
     "output_type": "stream",
     "text": [
      "enter the train no : 123\n",
      "enter the coach type : ac\n",
      "enter the coach no : B1\n",
      "enter the berth type : L\n"
     ]
    }
   ],
   "source": [
    "tno = input('enter the train no : ')\n",
    "ct = input('enter the coach type : ')\n",
    "cn = input('enter the coach no : ')\n",
    "bt = input('enter the berth type : ')"
   ]
  },
  {
   "cell_type": "code",
   "execution_count": 5,
   "id": "a7d6d1d3",
   "metadata": {},
   "outputs": [
    {
     "name": "stdout",
     "output_type": "stream",
     "text": [
      "[11, 12, 13]\n"
     ]
    }
   ],
   "source": [
    "print(train_info[tno]['coach_types'][ct][cn][bt]['Available'])"
   ]
  },
  {
   "cell_type": "code",
   "execution_count": 6,
   "id": "9a82abf9",
   "metadata": {},
   "outputs": [
    {
     "name": "stdout",
     "output_type": "stream",
     "text": [
      "3\n"
     ]
    }
   ],
   "source": [
    "print(len(train_info[tno]['coach_types'][ct][cn][bt]['Available']))"
   ]
  },
  {
   "cell_type": "code",
   "execution_count": 10,
   "id": "4142b9a1",
   "metadata": {},
   "outputs": [
    {
     "name": "stdout",
     "output_type": "stream",
     "text": [
      "1\n",
      "55\n",
      "124\n",
      "9\n"
     ]
    }
   ],
   "source": [
    "list1 = [1,2,5,6,7,33,4,55,11]\n",
    "\n",
    "# min\n",
    "print(min(list1))\n",
    "\n",
    "# max\n",
    "print(max(list1))\n",
    "\n",
    "# sum\n",
    "print(sum(list1))\n",
    "\n",
    "# len\n",
    "print(len(list1))"
   ]
  },
  {
   "cell_type": "code",
   "execution_count": 12,
   "id": "6e29cd48",
   "metadata": {},
   "outputs": [
    {
     "name": "stdout",
     "output_type": "stream",
     "text": [
      "A\n",
      "u\n",
      "5\n"
     ]
    }
   ],
   "source": [
    "list1 = 'Arush'\n",
    "\n",
    "# min\n",
    "print(min(list1))\n",
    "\n",
    "# max\n",
    "print(max(list1))\n",
    "\n",
    "# sum\n",
    "# print(sum(list1))\n",
    "\n",
    "# len\n",
    "print(len(list1))"
   ]
  },
  {
   "cell_type": "code",
   "execution_count": 13,
   "id": "1515a495",
   "metadata": {},
   "outputs": [
    {
     "name": "stdout",
     "output_type": "stream",
     "text": [
      "97\n",
      "65\n"
     ]
    }
   ],
   "source": [
    "print(ord('a'))\n",
    "print(ord('A'))"
   ]
  },
  {
   "cell_type": "code",
   "execution_count": 14,
   "id": "c7d42ed1",
   "metadata": {},
   "outputs": [
    {
     "name": "stdout",
     "output_type": "stream",
     "text": [
      "114\n"
     ]
    }
   ],
   "source": [
    "print(ord('r'))"
   ]
  },
  {
   "cell_type": "markdown",
   "id": "f9b409be",
   "metadata": {},
   "source": [
    "## range"
   ]
  },
  {
   "cell_type": "code",
   "execution_count": 16,
   "id": "88acf8e1",
   "metadata": {},
   "outputs": [
    {
     "name": "stdout",
     "output_type": "stream",
     "text": [
      "[5, 6, 7, 8, 9, 10, 11, 12, 13, 14, 15, 16, 17, 18, 19]\n"
     ]
    }
   ],
   "source": [
    "print(list(range(5,20)))"
   ]
  },
  {
   "cell_type": "code",
   "execution_count": 17,
   "id": "47b76ad7",
   "metadata": {},
   "outputs": [
    {
     "name": "stdout",
     "output_type": "stream",
     "text": [
      "[0, 1, 2, 3, 4]\n"
     ]
    }
   ],
   "source": [
    "print(list(range(5)))"
   ]
  },
  {
   "cell_type": "code",
   "execution_count": 18,
   "id": "c37f593d",
   "metadata": {},
   "outputs": [
    {
     "name": "stdout",
     "output_type": "stream",
     "text": [
      "[5, 10, 15]\n"
     ]
    }
   ],
   "source": [
    "print(list(range(5,20,5)))"
   ]
  },
  {
   "cell_type": "code",
   "execution_count": 20,
   "id": "92df714e",
   "metadata": {},
   "outputs": [
    {
     "name": "stdout",
     "output_type": "stream",
     "text": [
      "Help on built-in function sum in module builtins:\n",
      "\n",
      "sum(iterable, /, start=0)\n",
      "    Return the sum of a 'start' value (default: 0) plus an iterable of numbers\n",
      "    \n",
      "    When the iterable is empty, return the start value.\n",
      "    This function is intended specifically for use with numeric values and may\n",
      "    reject non-numeric types.\n",
      "\n"
     ]
    }
   ],
   "source": [
    "help(sum)"
   ]
  },
  {
   "cell_type": "code",
   "execution_count": 21,
   "id": "6f660919",
   "metadata": {},
   "outputs": [],
   "source": [
    "list1 = [1,2,3]\n",
    "\n",
    "tup1 = (5,6,7,list1,6)"
   ]
  },
  {
   "cell_type": "code",
   "execution_count": 22,
   "id": "32a7371c",
   "metadata": {},
   "outputs": [
    {
     "name": "stdout",
     "output_type": "stream",
     "text": [
      "215\n"
     ]
    }
   ],
   "source": [
    "print(8+6*4*9-9)"
   ]
  },
  {
   "cell_type": "code",
   "execution_count": 24,
   "id": "c81f0536",
   "metadata": {},
   "outputs": [
    {
     "name": "stdout",
     "output_type": "stream",
     "text": [
      "Welcome to todays \n",
      " class by Arush\n"
     ]
    }
   ],
   "source": [
    "print('Welcome to todays \\n class by Arush') # new line"
   ]
  },
  {
   "cell_type": "code",
   "execution_count": 25,
   "id": "35c03a48",
   "metadata": {},
   "outputs": [
    {
     "name": "stdout",
     "output_type": "stream",
     "text": [
      "Welcome to todays \\n class by Arush\n"
     ]
    }
   ],
   "source": [
    "print('Welcome to todays \\\\n class by Arush') # escape "
   ]
  },
  {
   "cell_type": "code",
   "execution_count": 29,
   "id": "dfa40184",
   "metadata": {},
   "outputs": [
    {
     "name": "stdout",
     "output_type": "stream",
     "text": [
      "Welcome to todays '''\n",
      "''' class by Arush\n"
     ]
    }
   ],
   "source": [
    "print(\"Welcome to todays '''\\n''' class by Arush\")"
   ]
  },
  {
   "cell_type": "code",
   "execution_count": 30,
   "id": "631c17b7",
   "metadata": {},
   "outputs": [
    {
     "name": "stdout",
     "output_type": "stream",
     "text": [
      "Welcome to todays \t class by Arush\n"
     ]
    }
   ],
   "source": [
    "print(\"Welcome to todays \\t class by Arush\") # tab"
   ]
  },
  {
   "cell_type": "code",
   "execution_count": 32,
   "id": "d7a75c07",
   "metadata": {},
   "outputs": [
    {
     "name": "stdout",
     "output_type": "stream",
     "text": [
      "Welcome to todays \\n class \\t by Arush\n"
     ]
    }
   ],
   "source": [
    "print(r'Welcome to todays \\n class \\t by Arush') # raw string"
   ]
  },
  {
   "cell_type": "markdown",
   "id": "8df3c49e",
   "metadata": {},
   "source": [
    "## Comparision"
   ]
  },
  {
   "cell_type": "markdown",
   "id": "048bf10a",
   "metadata": {},
   "source": [
    "- value\n",
    "- membership\n",
    "- identity"
   ]
  },
  {
   "cell_type": "markdown",
   "id": "08fbb5f2",
   "metadata": {},
   "source": [
    "## value"
   ]
  },
  {
   "cell_type": "code",
   "execution_count": 38,
   "id": "a2544778",
   "metadata": {},
   "outputs": [],
   "source": [
    "var1 = 'Ethans'\n",
    "var2 = 'wakad'"
   ]
  },
  {
   "cell_type": "code",
   "execution_count": 39,
   "id": "2a1eb9e0",
   "metadata": {},
   "outputs": [
    {
     "name": "stdout",
     "output_type": "stream",
     "text": [
      "False\n",
      "False\n",
      "True\n",
      "False\n",
      "True\n",
      "True\n"
     ]
    }
   ],
   "source": [
    "print(var1 == var2) \n",
    "print(var1 > var2)\n",
    "print(var1 < var2)\n",
    "print(var1 >= var2)\n",
    "print(var1 <= var2)\n",
    "print(var1 != var2) # not equal to "
   ]
  },
  {
   "cell_type": "code",
   "execution_count": null,
   "id": "a0c517fa",
   "metadata": {},
   "outputs": [],
   "source": []
  }
 ],
 "metadata": {
  "kernelspec": {
   "display_name": "Python 3 (ipykernel)",
   "language": "python",
   "name": "python3"
  },
  "language_info": {
   "codemirror_mode": {
    "name": "ipython",
    "version": 3
   },
   "file_extension": ".py",
   "mimetype": "text/x-python",
   "name": "python",
   "nbconvert_exporter": "python",
   "pygments_lexer": "ipython3",
   "version": "3.10.0"
  }
 },
 "nbformat": 4,
 "nbformat_minor": 5
}
